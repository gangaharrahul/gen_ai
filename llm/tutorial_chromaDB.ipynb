{
 "cells": [
  {
   "cell_type": "code",
   "execution_count": 2,
   "id": "2631351d-4b47-4147-9d64-c324724bf13b",
   "metadata": {},
   "outputs": [],
   "source": [
    "import chromadb"
   ]
  },
  {
   "cell_type": "code",
   "execution_count": 4,
   "id": "511e7c9a-577e-4a6f-bf80-4bb41c45cafa",
   "metadata": {},
   "outputs": [],
   "source": [
    "client = chromadb.Client()\n",
    "collection = client.create_collection(name = \"my_collection\")"
   ]
  },
  {
   "cell_type": "code",
   "execution_count": 5,
   "id": "8439e0c5-8aa3-4d99-933e-35511f7c2afa",
   "metadata": {},
   "outputs": [
    {
     "name": "stderr",
     "output_type": "stream",
     "text": [
      "C:\\Users\\DELL\\.cache\\chroma\\onnx_models\\all-MiniLM-L6-v2\\onnx.tar.gz: 100%|███████| 79.3M/79.3M [04:39<00:00, 298kiB/s]\n"
     ]
    }
   ],
   "source": [
    "## insert records\n",
    "collection.add(\n",
    "    documents = [\"This doc is about apple\",\n",
    "                \"This doc is about mongo\"],\n",
    "    ids=['id1','id2']\n",
    ")"
   ]
  },
  {
   "cell_type": "code",
   "execution_count": 6,
   "id": "afd22561-13d1-4e60-baed-6ae02536c44a",
   "metadata": {},
   "outputs": [
    {
     "data": {
      "text/plain": [
       "{'ids': ['id1', 'id2'],\n",
       " 'embeddings': None,\n",
       " 'metadatas': [None, None],\n",
       " 'documents': ['This doc is about apple', 'This doc is about mongo'],\n",
       " 'uris': None,\n",
       " 'data': None}"
      ]
     },
     "execution_count": 6,
     "metadata": {},
     "output_type": "execute_result"
    }
   ],
   "source": [
    "all_doc = collection.get()\n",
    "all_doc"
   ]
  },
  {
   "cell_type": "code",
   "execution_count": 9,
   "id": "a0bfcc3f-9b04-4eac-b473-b5792ab445f2",
   "metadata": {},
   "outputs": [
    {
     "data": {
      "text/plain": [
       "{'ids': [['id1', 'id2']],\n",
       " 'distances': [[1.2484221458435059, 1.5115063190460205]],\n",
       " 'metadatas': [[None, None]],\n",
       " 'embeddings': None,\n",
       " 'documents': [['This doc is about apple', 'This doc is about mongo']],\n",
       " 'uris': None,\n",
       " 'data': None}"
      ]
     },
     "execution_count": 9,
     "metadata": {},
     "output_type": "execute_result"
    }
   ],
   "source": [
    "result = collection.query(\n",
    "    query_texts=[\"This is a query doc about huawei\"],\n",
    "    n_results = 2\n",
    ")\n",
    "result"
   ]
  },
  {
   "cell_type": "code",
   "execution_count": 11,
   "id": "7a45bcc9-55cf-433b-a35a-7264d2e1ab50",
   "metadata": {},
   "outputs": [
    {
     "data": {
      "text/plain": [
       "{'ids': [],\n",
       " 'embeddings': None,\n",
       " 'metadatas': [],\n",
       " 'documents': [],\n",
       " 'uris': None,\n",
       " 'data': None}"
      ]
     },
     "execution_count": 11,
     "metadata": {},
     "output_type": "execute_result"
    }
   ],
   "source": [
    "collection.delete(ids = all_doc['ids'])\n",
    "collection.get()"
   ]
  },
  {
   "cell_type": "code",
   "execution_count": 13,
   "id": "d503b6f1-dad7-48d5-a755-2a4f3897ee04",
   "metadata": {},
   "outputs": [],
   "source": [
    "## insert records\n",
    "collection.add(\n",
    "    documents = [\"This doc is about new york\",\n",
    "                \"This doc is about Delhi\"],\n",
    "    ids=['id3','id4'],\n",
    "    metadatas=[{\"url\":\"https://en.wikipedia.org/wiki/New_York_City\"},{\"url\":\"https://en.wikipedia.org/wiki/Delhi\"}]\n",
    ")\n"
   ]
  },
  {
   "cell_type": "code",
   "execution_count": 14,
   "id": "71ee3158-c359-45e5-a83c-fa5922d3bcee",
   "metadata": {},
   "outputs": [
    {
     "data": {
      "text/plain": [
       "{'ids': [['id4', 'id3']],\n",
       " 'distances': [[1.5840990543365479, 1.9242708683013916]],\n",
       " 'metadatas': [[{'url': 'https://en.wikipedia.org/wiki/Delhi'},\n",
       "   {'url': 'https://en.wikipedia.org/wiki/New_York_City'}]],\n",
       " 'embeddings': None,\n",
       " 'documents': [['This doc is about Delhi', 'This doc is about new york']],\n",
       " 'uris': None,\n",
       " 'data': None}"
      ]
     },
     "execution_count": 14,
     "metadata": {},
     "output_type": "execute_result"
    }
   ],
   "source": [
    "result = collection.query(\n",
    "    query_texts=[\"Quesry about chole Bhature\"],\n",
    "    n_results = 2\n",
    ")\n",
    "result"
   ]
  },
  {
   "cell_type": "code",
   "execution_count": 15,
   "id": "2ebdf411-090b-4ee1-932b-c11b663863ad",
   "metadata": {},
   "outputs": [
    {
     "data": {
      "text/html": [
       "<div>\n",
       "<style scoped>\n",
       "    .dataframe tbody tr th:only-of-type {\n",
       "        vertical-align: middle;\n",
       "    }\n",
       "\n",
       "    .dataframe tbody tr th {\n",
       "        vertical-align: top;\n",
       "    }\n",
       "\n",
       "    .dataframe thead th {\n",
       "        text-align: right;\n",
       "    }\n",
       "</style>\n",
       "<table border=\"1\" class=\"dataframe\">\n",
       "  <thead>\n",
       "    <tr style=\"text-align: right;\">\n",
       "      <th></th>\n",
       "      <th>Techstack</th>\n",
       "      <th>Links</th>\n",
       "    </tr>\n",
       "  </thead>\n",
       "  <tbody>\n",
       "    <tr>\n",
       "      <th>0</th>\n",
       "      <td>React, Node.js, MongoDB</td>\n",
       "      <td>https://example.com/react-portfolio</td>\n",
       "    </tr>\n",
       "    <tr>\n",
       "      <th>1</th>\n",
       "      <td>Angular,.NET, SQL Server</td>\n",
       "      <td>https://example.com/angular-portfolio</td>\n",
       "    </tr>\n",
       "  </tbody>\n",
       "</table>\n",
       "</div>"
      ],
      "text/plain": [
       "                  Techstack                                  Links\n",
       "0   React, Node.js, MongoDB    https://example.com/react-portfolio\n",
       "1  Angular,.NET, SQL Server  https://example.com/angular-portfolio"
      ]
     },
     "execution_count": 15,
     "metadata": {},
     "output_type": "execute_result"
    }
   ],
   "source": [
    "import pandas as pd\n",
    "df = pd.read_csv(\"my_portfolio.csv\")\n",
    "df.head(2)"
   ]
  },
  {
   "cell_type": "markdown",
   "id": "e7c2376d-faf9-41a1-89ab-1e93e3edb30a",
   "metadata": {},
   "source": [
    "### client and persistant client\n",
    "### client : will create chroma in memory\n",
    "### persistant it will create chroma db in a disk"
   ]
  },
  {
   "cell_type": "code",
   "execution_count": 17,
   "id": "ae1c27d4-472d-4b51-88e5-1454b4c127d1",
   "metadata": {},
   "outputs": [],
   "source": [
    "import uuid\n",
    "import chromadb\n",
    "client = chromadb.PersistentClient('vectorstore')\n",
    "collection = client.get_or_create_collection(name =\"portfolio\")\n",
    "if not collection.count():\n",
    "    for _, row in df.iterrows():\n",
    "        collection.add(documents=row['Techstack'], metadatas={'link':row['Links']}, ids=[str(uuid.uuid4())])\n"
   ]
  },
  {
   "cell_type": "code",
   "execution_count": 19,
   "id": "21c2a146-1f59-4903-955b-b539e08840bd",
   "metadata": {},
   "outputs": [
    {
     "data": {
      "text/plain": [
       "{'ids': [['d454da7e-8dce-43ec-97d9-8b6d18947ee3',\n",
       "   'c6582a04-fe45-4c26-aa71-9122af93387a'],\n",
       "  ['749f11f2-306e-432b-b316-29c03a3df337',\n",
       "   '5ca4ff08-f86d-4d53-bd57-2a1507cc9018']],\n",
       " 'distances': [[0.9968848007555503, 1.0578701721493369],\n",
       "  [1.173335012239878, 1.2098473259595492]],\n",
       " 'metadatas': [[{'link': 'https://example.com/ml-python-portfolio'},\n",
       "   {'link': 'https://example.com/python-portfolio'}],\n",
       "  [{'link': 'https://example.com/react-portfolio'},\n",
       "   {'link': 'https://example.com/flutter-portfolio'}]],\n",
       " 'embeddings': None,\n",
       " 'documents': [['Machine Learning, Python, TensorFlow',\n",
       "   'Python, Django, MySQL'],\n",
       "  ['React, Node.js, MongoDB', 'Flutter, Firebase, GraphQL']],\n",
       " 'uris': None,\n",
       " 'data': None}"
      ]
     },
     "execution_count": 19,
     "metadata": {},
     "output_type": "execute_result"
    }
   ],
   "source": [
    "links = collection.query(query_texts=[\"Experience in python\",\"Experience in node\"],n_results=2)\n",
    "links"
   ]
  },
  {
   "cell_type": "code",
   "execution_count": null,
   "id": "4a6c7eab-332d-4fd1-a7a4-f2b765e939b8",
   "metadata": {},
   "outputs": [],
   "source": []
  }
 ],
 "metadata": {
  "kernelspec": {
   "display_name": "Python 3 (ipykernel)",
   "language": "python",
   "name": "python3"
  },
  "language_info": {
   "codemirror_mode": {
    "name": "ipython",
    "version": 3
   },
   "file_extension": ".py",
   "mimetype": "text/x-python",
   "name": "python",
   "nbconvert_exporter": "python",
   "pygments_lexer": "ipython3",
   "version": "3.10.0"
  }
 },
 "nbformat": 4,
 "nbformat_minor": 5
}
