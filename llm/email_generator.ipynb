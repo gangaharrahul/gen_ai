{
 "cells": [
  {
   "cell_type": "code",
   "execution_count": 4,
   "id": "7857bc39-92ae-4b7c-8109-bf9228b55375",
   "metadata": {},
   "outputs": [
    {
     "name": "stdout",
     "output_type": "stream",
     "text": [
      "The first person to land on the moon was Neil Armstrong. He stepped out of the lunar module Eagle and onto the moon's surface on July 20, 1969, during the Apollo 11 mission.\n"
     ]
    }
   ],
   "source": [
    "from langchain_groq import ChatGroq\n",
    "llm = ChatGroq(temperature = 0 , groq_api_key =\"123\", model_name = \"llama-3.1-70b-versatile\")\n",
    "response = llm.invoke(\"the first person to land moon was ...\")\n",
    "print(response.content)"
   ]
  },
  {
   "cell_type": "markdown",
   "id": "e46ed842-a101-4505-b576-472b41edb656",
   "metadata": {},
   "source": [
    "### Using fireduck we can run our panda program faster."
   ]
  },
  {
   "cell_type": "markdown",
   "id": "14d9d27d-a92e-4477-bd96-e89b94c9f538",
   "metadata": {},
   "source": [
    "### Using langchain , web base loader we can get the information from Website URL"
   ]
  },
  {
   "cell_type": "code",
   "execution_count": 5,
   "id": "ca27822d-226d-47fb-9622-f15d2166506a",
   "metadata": {},
   "outputs": [
    {
     "name": "stderr",
     "output_type": "stream",
     "text": [
      "USER_AGENT environment variable not set, consider setting it to identify your requests.\n"
     ]
    },
    {
     "name": "stdout",
     "output_type": "stream",
     "text": [
      "Apply for Senior Software Engineer, ITC\n",
      "\n",
      "Search JobsSkip navigationSearch JobsNIKE, INC. JOBSContract JobsJoin The Talent CommunityLife @ NikeOverviewBenefitsBrandsOverviewJordanConverseTeamsOverviewAdministrative SupportAdvanced InnovationAir Manufacturing InnovationAviationCommunicationsCustomer ServiceDesignDigitalFacilitiesFinance & AccountingGovernment & Public AffairsHuman ResourcesInsights & AnalyticsLegalManufacturing & EngineeringMarketingMerchandisingPlanningPrivacyProcurementProduct Creation, Development & ManagementRetail CorporateRetail StoresSalesSocial & Community ImpactSports MarketingStrategic PlanningSupply Chain, Distribution & LogisticsSustainabilityTechnologyLocationsOverviewNike WHQNike New York HQEHQ: Hilversum, The NetherlandsELC: Laakdal, BelgiumGreater China HQDiversity, Equity & InclusionOverviewMilitary InclusionDisability InclusionIndigenous InclusionInternshipsTechnologySenior Software Engineer, ITCKarnataka, IndiaBecome a Part of the NIKE, Inc. TeamNIKE, Inc. does more than outfit the world’s best athletes. It is a place to explore potential, obliterate boundaries and push out the edges of what can be. The company looks for people who can grow, think, dream and create. Its culture thrives by embracing diversity and rewarding imagination. The brand seeks achievers, leaders and visionaries. At NIKE, Inc. it’s about each person bringing skills and passion to a challenging and constantly evolving game.NIKE is a technology company. From our flagship website and five-star mobile apps to developing products, managing big data and providing leading edge engineering and systems support, our teams at NIKE Global Technology exist to revolutionize the future at the confluence of tech and sport. We invest and develop advances in technology and employ the most creative people in the world, and then give them the support to constantly innovate, iterate and serve consumers more directly and personally.  Our teams are innovative, diverse, multidisciplinary and collaborative, taking technology into the future and bringing the world with it.WHO YOU’LL WORK WITHYou will be reporting to the Engineering Manager at Supply Chain and Planning Tech - India Capability Center, who will guide you to grow and build your career path. You will be directly working within a team of dedicated engineers that work on the same solutions. You share your experience and technical expertise such that we improve on the longer-term technical strategic direction.WHO WE ARE LOOKING FORAs a Software Engineer for the Supply Chain and Planning Technology team, you will be part of a mission critical team focused on building a high-throughput, low-latency, fault-tolerant supply chain platform that drive Nike’s Digital transformation and growth strategies.A minimum of 6-9 years software development experienceExperience working in a highly collaborative, multi-discipline development team environmentExperience working in a distributed/cloud-based environment (e.g. AWS Services, GCE, Rackspace, Azure etc.)Experience in micro service architecture, domain driven design, and RESTful Services using JavaExperience working with Java and Spring Boot framework mandatorilyExperience in Test Driven development – with Junit, MockitoExperience with monitoring and tracing tools like Splunk, SignalFx, New Relic etc.Experience working with NoSQL data stores like Cassandra, DynamoDB, MongoDB etc.Experience working with relational data stores like MySQL, Oracle etc.Experience with continuous integration, unit testing, static analysis, and automated integration tests. Continuous delivery experience preferredWorking knowledge of Scrum and agile principlesComfortable working in a fast-paced, results-oriented environmentComfortable working with globally distributed and diverse teamsExcellent verbal and written communication and collaboration skills to effectively communicate with both business and technical teamsBachelor’s degree in computer science, Information Systems, or other relevant subject area, or equivalent experience.The following would be nice-to-have:Experience in designing and implementing highly scalable web applicationsExposure to Supply Chain domain areas like inventory management, order management, logistics management, warehouse managementExposure to implementing or integrating with enterprise scale packages like SAP S4, IBM Sterling, Manhattan WMSWHAT YOU’LL WORK ONAs a Software Engineer II in SCPT organization, you will be part of designing and delivering solutions for both digital and in-store platforms to bring best in class consumer experiences to our consumer worldwide. We invest and develop advances in technology and employ the most creative people in the world, and then give them the support to constantly innovate, iterate and serve consumers more directly and personally.In this role,You will be part of a mission critical team focused on building a high-throughput, low-latency, fault-tolerant supply chain platform that drive Nike’s Digital transformation.You will be contributing ideas for new features and identifying technical areas for improvement proactively collaborating with product team members at Nike to design, develop, and deploy a highly scalable digital asset management system and services.You will use your in-depth experience in software development to write clean, tested, and well-documented code, as well as perform peer code review process and mentor other engineers on the team.You will remain current with industry trends and participate in development of key innovation features.You will help the team with continuous improvement in performance, scalability, extensibility, reliability, and usability of features by leverage agile methodology concepts for quality, delivery and continuous improvement.NIKE, Inc. is a growth company that looks for team members to grow with it. Nike offers a generous total rewards package, casual work environment, a diverse and inclusive culture, and an electric atmosphere for professional development. No matter the location, or the role, every Nike employee shares one galvanizing mission: To bring inspiration and innovation to every athlete* in the world.NIKE, Inc. is committed to employing a diverse workforce. Qualified applicants will receive consideration without regard to race, color, religion, sex, national origin, age, sexual orientation, gender identity, gender expression, veteran status, or disability.How We HireAt NIKE, Inc. we promise to provide a premium, inclusive, compelling and authentic candidate experience. Delivering on this promise means we allow you to be at your best — and to do that, you need to understand how the hiring process works. Transparency is key.\n",
      "\n",
      "* This overview explains our hiring process for corporate roles. Note there may be different hiring steps involved for non-corporate roles.Start nowBenefitsWhether it’s transportation or financial health, we continually invest in our employees to help them achieve greatness — inside and outside of work. All who work here should be able to realize their full potential.Employee Assistance ProgramHolidaysMedical PlanPaid Time Off (PTO)Product DiscountsLearn moreFIND A STORENIKE JOURNALBECOME A MEMBERFEEDBACKPROMO CODESGET HELPGET HELPOrder StatusShipping and DeliveryReturnsPayment OptionsContact UsABOUT NIKEABOUT NIKENewsCareersInvestorsSustainabilityNIKE APPSNIKE APPSNike AppNike Run ClubNike Training ClubSNKRSUnited Arab Emirates© 2024 Nike, Inc. All Rights ReservedGuidesNike AdaptNike FlyEaseNike FreeNike VaporflyNBA Fan GearNike AirNike FlyknitNike PegasusNike Zoom FlyKids AirtopiaNike Air MaxNike FlyleatherNike ReactNike ZoomXTerms of UseTerms of SaleCompany DetailsPrivacy & Cookie Policy\n"
     ]
    }
   ],
   "source": [
    "from langchain_community.document_loaders import WebBaseLoader\n",
    "loader = WebBaseLoader(\"https://jobs.nike.com/job/R-41673\")\n",
    "page_data = loader.load().pop().page_content\n",
    "print(page_data)"
   ]
  },
  {
   "cell_type": "code",
   "execution_count": 6,
   "id": "4958f752-756c-4e2a-bfcd-bbf0cf51f025",
   "metadata": {},
   "outputs": [
    {
     "name": "stdout",
     "output_type": "stream",
     "text": [
      "```json\n",
      "{\n",
      "  \"role\": \"Senior Software Engineer, ITC\",\n",
      "  \"experience\": \"6-9 years\",\n",
      "  \"skills\": [\n",
      "    \"Java\",\n",
      "    \"Spring Boot\",\n",
      "    \"Micro service architecture\",\n",
      "    \"Domain driven design\",\n",
      "    \"RESTful Services\",\n",
      "    \"Test Driven development\",\n",
      "    \"Junit\",\n",
      "    \"Mockito\",\n",
      "    \"Splunk\",\n",
      "    \"SignalFx\",\n",
      "    \"New Relic\",\n",
      "    \"NoSQL data stores\",\n",
      "    \"Cassandra\",\n",
      "    \"DynamoDB\",\n",
      "    \"MongoDB\",\n",
      "    \"Relational data stores\",\n",
      "    \"MySQL\",\n",
      "    \"Oracle\",\n",
      "    \"Continuous integration\",\n",
      "    \"Unit testing\",\n",
      "    \"Static analysis\",\n",
      "    \"Automated integration tests\",\n",
      "    \"Scrum\",\n",
      "    \"Agile principles\"\n",
      "  ],\n",
      "  \"description\": \"As a Software Engineer for the Supply Chain and Planning Technology team, you will be part of a mission critical team focused on building a high-throughput, low-latency, fault-tolerant supply chain platform that drive Nike’s Digital transformation and growth strategies.\"\n",
      "}\n",
      "```\n"
     ]
    }
   ],
   "source": [
    "from langchain_core.prompts import PromptTemplate\n",
    "prompt_extract = PromptTemplate.from_template(\n",
    "        \"\"\"\n",
    "        ### SCRAPED TEXT FROM WEBSITE:\n",
    "        {page_data}\n",
    "        ### INSTRUCTION:\n",
    "        The scraped text is from the career's page of a website.\n",
    "        Your job is to extract the job postings and return them in JSON format containing the \n",
    "        following keys: `role`, `experience`, `skills` and `description`.\n",
    "        Only return the valid JSON.\n",
    "        ### VALID JSON (NO PREAMBLE):    \n",
    "        \"\"\"\n",
    ")\n",
    "chain_extract = prompt_extract | llm\n",
    "res = chain_extract.invoke(input={'page_data':page_data})\n",
    "print(res.content)"
   ]
  },
  {
   "cell_type": "code",
   "execution_count": 8,
   "id": "e05cfa0f-f9f0-495e-82b7-5ead8102174c",
   "metadata": {},
   "outputs": [
    {
     "data": {
      "text/plain": [
       "{'role': 'Senior Software Engineer, ITC',\n",
       " 'experience': '6-9 years',\n",
       " 'skills': ['Java',\n",
       "  'Spring Boot',\n",
       "  'Micro service architecture',\n",
       "  'Domain driven design',\n",
       "  'RESTful Services',\n",
       "  'Test Driven development',\n",
       "  'Junit',\n",
       "  'Mockito',\n",
       "  'Splunk',\n",
       "  'SignalFx',\n",
       "  'New Relic',\n",
       "  'NoSQL data stores',\n",
       "  'Cassandra',\n",
       "  'DynamoDB',\n",
       "  'MongoDB',\n",
       "  'Relational data stores',\n",
       "  'MySQL',\n",
       "  'Oracle',\n",
       "  'Continuous integration',\n",
       "  'Unit testing',\n",
       "  'Static analysis',\n",
       "  'Automated integration tests',\n",
       "  'Scrum',\n",
       "  'Agile principles'],\n",
       " 'description': 'As a Software Engineer for the Supply Chain and Planning Technology team, you will be part of a mission critical team focused on building a high-throughput, low-latency, fault-tolerant supply chain platform that drive Nike’s Digital transformation and growth strategies.'}"
      ]
     },
     "execution_count": 8,
     "metadata": {},
     "output_type": "execute_result"
    }
   ],
   "source": [
    "from langchain_core.output_parsers import JsonOutputParser\n",
    "json_parser = JsonOutputParser()\n",
    "json_res = json_parser.parse(res.content)\n",
    "json_res"
   ]
  },
  {
   "cell_type": "code",
   "execution_count": 9,
   "id": "a7ba3ade-5cca-4b5e-beb3-ee5f4120826f",
   "metadata": {},
   "outputs": [
    {
     "data": {
      "text/html": [
       "<div>\n",
       "<style scoped>\n",
       "    .dataframe tbody tr th:only-of-type {\n",
       "        vertical-align: middle;\n",
       "    }\n",
       "\n",
       "    .dataframe tbody tr th {\n",
       "        vertical-align: top;\n",
       "    }\n",
       "\n",
       "    .dataframe thead th {\n",
       "        text-align: right;\n",
       "    }\n",
       "</style>\n",
       "<table border=\"1\" class=\"dataframe\">\n",
       "  <thead>\n",
       "    <tr style=\"text-align: right;\">\n",
       "      <th></th>\n",
       "      <th>Techstack</th>\n",
       "      <th>Links</th>\n",
       "    </tr>\n",
       "  </thead>\n",
       "  <tbody>\n",
       "    <tr>\n",
       "      <th>0</th>\n",
       "      <td>React, Node.js, MongoDB</td>\n",
       "      <td>https://example.com/react-portfolio</td>\n",
       "    </tr>\n",
       "    <tr>\n",
       "      <th>1</th>\n",
       "      <td>Angular,.NET, SQL Server</td>\n",
       "      <td>https://example.com/angular-portfolio</td>\n",
       "    </tr>\n",
       "  </tbody>\n",
       "</table>\n",
       "</div>"
      ],
      "text/plain": [
       "                  Techstack                                  Links\n",
       "0   React, Node.js, MongoDB    https://example.com/react-portfolio\n",
       "1  Angular,.NET, SQL Server  https://example.com/angular-portfolio"
      ]
     },
     "execution_count": 9,
     "metadata": {},
     "output_type": "execute_result"
    }
   ],
   "source": [
    "import pandas as pd\n",
    "df = pd.read_csv(\"my_portfolio.csv\")\n",
    "df.head(2)"
   ]
  },
  {
   "cell_type": "code",
   "execution_count": 10,
   "id": "178febbd-65ca-4e81-9461-311ba7303739",
   "metadata": {},
   "outputs": [],
   "source": [
    "import uuid\n",
    "import chromadb\n",
    "client = chromadb.PersistentClient('vectorstore')\n",
    "collection = client.get_or_create_collection(name =\"portfolio\")\n",
    "if not collection.count():\n",
    "    for _, row in df.iterrows():\n",
    "        collection.add(documents=row['Techstack'], metadatas={'link':row['Links']}, ids=[str(uuid.uuid4())])"
   ]
  },
  {
   "cell_type": "code",
   "execution_count": 13,
   "id": "9e0c7e02-eea3-41f7-8ace-1c453ddc398e",
   "metadata": {},
   "outputs": [
    {
     "data": {
      "text/plain": [
       "{'ids': [['e749c089-843f-4354-a179-d8c739843da1',\n",
       "   'd313ff8d-1112-42aa-95f4-84fd1f389d75'],\n",
       "  ['e749c089-843f-4354-a179-d8c739843da1',\n",
       "   'adc4430d-1cc6-46b0-ba96-9797e9169a9d'],\n",
       "  ['d313ff8d-1112-42aa-95f4-84fd1f389d75',\n",
       "   'c12f4511-7899-4a7e-a494-72f400ec55eb'],\n",
       "  ['adc4430d-1cc6-46b0-ba96-9797e9169a9d',\n",
       "   'd313ff8d-1112-42aa-95f4-84fd1f389d75'],\n",
       "  ['e9275550-03c5-4007-aed9-c1df282642cb',\n",
       "   'adc4430d-1cc6-46b0-ba96-9797e9169a9d'],\n",
       "  ['e9cc6945-9eed-45e5-b450-b7d5ebb2d639',\n",
       "   'd454da7e-8dce-43ec-97d9-8b6d18947ee3'],\n",
       "  ['e749c089-843f-4354-a179-d8c739843da1',\n",
       "   'adc4430d-1cc6-46b0-ba96-9797e9169a9d'],\n",
       "  ['e749c089-843f-4354-a179-d8c739843da1',\n",
       "   'd313ff8d-1112-42aa-95f4-84fd1f389d75'],\n",
       "  ['5ca4ff08-f86d-4d53-bd57-2a1507cc9018',\n",
       "   'd454da7e-8dce-43ec-97d9-8b6d18947ee3'],\n",
       "  ['815fd477-7686-4cb5-9859-174ff72a46b6',\n",
       "   'd454da7e-8dce-43ec-97d9-8b6d18947ee3'],\n",
       "  ['e9cc6945-9eed-45e5-b450-b7d5ebb2d639',\n",
       "   'adc4430d-1cc6-46b0-ba96-9797e9169a9d'],\n",
       "  ['749f11f2-306e-432b-b316-29c03a3df337',\n",
       "   '5ca4ff08-f86d-4d53-bd57-2a1507cc9018'],\n",
       "  ['5ca4ff08-f86d-4d53-bd57-2a1507cc9018',\n",
       "   '7cc57b8c-c40b-4a11-bfed-6664d63defb5'],\n",
       "  ['5ca4ff08-f86d-4d53-bd57-2a1507cc9018',\n",
       "   '7cc57b8c-c40b-4a11-bfed-6664d63defb5'],\n",
       "  ['749f11f2-306e-432b-b316-29c03a3df337',\n",
       "   '5df21438-ffe5-4de9-b80d-ff7e0f5c1f20'],\n",
       "  ['e46b2c19-d476-4212-8d78-a47c5060720c',\n",
       "   '5ca4ff08-f86d-4d53-bd57-2a1507cc9018'],\n",
       "  ['e46b2c19-d476-4212-8d78-a47c5060720c',\n",
       "   'e9275550-03c5-4007-aed9-c1df282642cb'],\n",
       "  ['e749c089-843f-4354-a179-d8c739843da1',\n",
       "   'e46b2c19-d476-4212-8d78-a47c5060720c'],\n",
       "  ['e9275550-03c5-4007-aed9-c1df282642cb',\n",
       "   'e46b2c19-d476-4212-8d78-a47c5060720c'],\n",
       "  ['66887898-21dd-4363-ab4a-ac510af7bcc3',\n",
       "   'd313ff8d-1112-42aa-95f4-84fd1f389d75'],\n",
       "  ['d454da7e-8dce-43ec-97d9-8b6d18947ee3',\n",
       "   'd313ff8d-1112-42aa-95f4-84fd1f389d75'],\n",
       "  ['e9cc6945-9eed-45e5-b450-b7d5ebb2d639',\n",
       "   'd454da7e-8dce-43ec-97d9-8b6d18947ee3'],\n",
       "  ['e9cc6945-9eed-45e5-b450-b7d5ebb2d639',\n",
       "   'e749c089-843f-4354-a179-d8c739843da1'],\n",
       "  ['e749c089-843f-4354-a179-d8c739843da1',\n",
       "   '57ba88e3-5d1f-4b89-820f-31108b8ad47a']],\n",
       " 'distances': [[0.9616343623117813, 1.1300609608799346],\n",
       "  [0.6450188750346234, 0.7620291472227755],\n",
       "  [1.4187279345406247, 1.4658134377070497],\n",
       "  [1.663309164754671, 1.6796554389279168],\n",
       "  [1.4628956792557994, 1.4935864474618985],\n",
       "  [1.55424760480834, 1.6409246330873697],\n",
       "  [1.3685754560227743, 1.4024751713924988],\n",
       "  [1.8571578659077352, 1.8835066174998745],\n",
       "  [1.5639344657693113, 1.6505886214195216],\n",
       "  [1.6008809001841358, 1.656537874221376],\n",
       "  [1.623005396273783, 1.6580285459341417],\n",
       "  [1.1486213430782317, 1.2077727955147024],\n",
       "  [1.4915078571331957, 1.612367191188357],\n",
       "  [1.287336028146676, 1.3162538009605795],\n",
       "  [0.6864373666214718, 0.8297834763319623],\n",
       "  [1.2747432783053294, 1.3135586593403468],\n",
       "  [0.514807288495788, 0.5916030402737046],\n",
       "  [0.9842154576712339, 1.386556448481548],\n",
       "  [1.4115627094547518, 1.4436719151882917],\n",
       "  [1.7264528484000696, 1.7312717789712115],\n",
       "  [1.5987530321241852, 1.6675007752082258],\n",
       "  [1.4989657502679188, 1.5961594874429],\n",
       "  [1.6473974151589486, 1.6509120141380957],\n",
       "  [1.5247514550169248, 1.5948016502520932]],\n",
       " 'metadatas': [[{'link': 'https://example.com/java-portfolio'},\n",
       "   {'link': 'https://example.com/android-portfolio'}],\n",
       "  [{'link': 'https://example.com/java-portfolio'},\n",
       "   {'link': 'https://example.com/kotlin-backend-portfolio'}],\n",
       "  [{'link': 'https://example.com/android-portfolio'},\n",
       "   {'link': 'https://example.com/xamarin-portfolio'}],\n",
       "  [{'link': 'https://example.com/kotlin-backend-portfolio'},\n",
       "   {'link': 'https://example.com/android-portfolio'}],\n",
       "  [{'link': 'https://example.com/wordpress-portfolio'},\n",
       "   {'link': 'https://example.com/kotlin-backend-portfolio'}],\n",
       "  [{'link': 'https://example.com/devops-portfolio'},\n",
       "   {'link': 'https://example.com/ml-python-portfolio'}],\n",
       "  [{'link': 'https://example.com/java-portfolio'},\n",
       "   {'link': 'https://example.com/kotlin-backend-portfolio'}],\n",
       "  [{'link': 'https://example.com/java-portfolio'},\n",
       "   {'link': 'https://example.com/android-portfolio'}],\n",
       "  [{'link': 'https://example.com/flutter-portfolio'},\n",
       "   {'link': 'https://example.com/ml-python-portfolio'}],\n",
       "  [{'link': 'https://example.com/android-tv-portfolio'},\n",
       "   {'link': 'https://example.com/ml-python-portfolio'}],\n",
       "  [{'link': 'https://example.com/devops-portfolio'},\n",
       "   {'link': 'https://example.com/kotlin-backend-portfolio'}],\n",
       "  [{'link': 'https://example.com/react-portfolio'},\n",
       "   {'link': 'https://example.com/flutter-portfolio'}],\n",
       "  [{'link': 'https://example.com/flutter-portfolio'},\n",
       "   {'link': 'https://example.com/kotlin-android-portfolio'}],\n",
       "  [{'link': 'https://example.com/flutter-portfolio'},\n",
       "   {'link': 'https://example.com/kotlin-android-portfolio'}],\n",
       "  [{'link': 'https://example.com/react-portfolio'},\n",
       "   {'link': 'https://example.com/react-native-portfolio'}],\n",
       "  [{'link': 'https://example.com/magento-portfolio'},\n",
       "   {'link': 'https://example.com/flutter-portfolio'}],\n",
       "  [{'link': 'https://example.com/magento-portfolio'},\n",
       "   {'link': 'https://example.com/wordpress-portfolio'}],\n",
       "  [{'link': 'https://example.com/java-portfolio'},\n",
       "   {'link': 'https://example.com/magento-portfolio'}],\n",
       "  [{'link': 'https://example.com/wordpress-portfolio'},\n",
       "   {'link': 'https://example.com/magento-portfolio'}],\n",
       "  [{'link': 'https://example.com/ios-portfolio'},\n",
       "   {'link': 'https://example.com/android-portfolio'}],\n",
       "  [{'link': 'https://example.com/ml-python-portfolio'},\n",
       "   {'link': 'https://example.com/android-portfolio'}],\n",
       "  [{'link': 'https://example.com/devops-portfolio'},\n",
       "   {'link': 'https://example.com/ml-python-portfolio'}],\n",
       "  [{'link': 'https://example.com/devops-portfolio'},\n",
       "   {'link': 'https://example.com/java-portfolio'}],\n",
       "  [{'link': 'https://example.com/java-portfolio'},\n",
       "   {'link': 'https://example.com/ios-ar-portfolio'}]],\n",
       " 'embeddings': None,\n",
       " 'documents': [['Java, Spring Boot, Oracle',\n",
       "   'Android, Java, Room Persistence'],\n",
       "  ['Java, Spring Boot, Oracle', 'Backend, Kotlin, Spring Boot'],\n",
       "  ['Android, Java, Room Persistence', 'Cross-platform, Xamarin, Azure'],\n",
       "  ['Backend, Kotlin, Spring Boot', 'Android, Java, Room Persistence'],\n",
       "  ['WordPress, PHP, MySQL', 'Backend, Kotlin, Spring Boot'],\n",
       "  ['DevOps, Jenkins, Docker', 'Machine Learning, Python, TensorFlow'],\n",
       "  ['Java, Spring Boot, Oracle', 'Backend, Kotlin, Spring Boot'],\n",
       "  ['Java, Spring Boot, Oracle', 'Android, Java, Room Persistence'],\n",
       "  ['Flutter, Firebase, GraphQL', 'Machine Learning, Python, TensorFlow'],\n",
       "  ['Android TV, Kotlin, Android NDK', 'Machine Learning, Python, TensorFlow'],\n",
       "  ['DevOps, Jenkins, Docker', 'Backend, Kotlin, Spring Boot'],\n",
       "  ['React, Node.js, MongoDB', 'Flutter, Firebase, GraphQL'],\n",
       "  ['Flutter, Firebase, GraphQL', 'Kotlin, Android, Firebase'],\n",
       "  ['Flutter, Firebase, GraphQL', 'Kotlin, Android, Firebase'],\n",
       "  ['React, Node.js, MongoDB', 'React Native, Node.js, MongoDB'],\n",
       "  ['Magento, PHP, MySQL', 'Flutter, Firebase, GraphQL'],\n",
       "  ['Magento, PHP, MySQL', 'WordPress, PHP, MySQL'],\n",
       "  ['Java, Spring Boot, Oracle', 'Magento, PHP, MySQL'],\n",
       "  ['WordPress, PHP, MySQL', 'Magento, PHP, MySQL'],\n",
       "  ['iOS, Swift, Core Data', 'Android, Java, Room Persistence'],\n",
       "  ['Machine Learning, Python, TensorFlow', 'Android, Java, Room Persistence'],\n",
       "  ['DevOps, Jenkins, Docker', 'Machine Learning, Python, TensorFlow'],\n",
       "  ['DevOps, Jenkins, Docker', 'Java, Spring Boot, Oracle'],\n",
       "  ['Java, Spring Boot, Oracle', 'iOS, Swift, ARKit']],\n",
       " 'uris': None,\n",
       " 'data': None}"
      ]
     },
     "execution_count": 13,
     "metadata": {},
     "output_type": "execute_result"
    }
   ],
   "source": [
    "links = collection.query(query_texts=job['skills'],n_results=2)\n",
    "links"
   ]
  },
  {
   "cell_type": "code",
   "execution_count": 12,
   "id": "16e75631-d745-45b4-969e-88c861da6fbb",
   "metadata": {},
   "outputs": [
    {
     "data": {
      "text/plain": [
       "['Java',\n",
       " 'Spring Boot',\n",
       " 'Micro service architecture',\n",
       " 'Domain driven design',\n",
       " 'RESTful Services',\n",
       " 'Test Driven development',\n",
       " 'Junit',\n",
       " 'Mockito',\n",
       " 'Splunk',\n",
       " 'SignalFx',\n",
       " 'New Relic',\n",
       " 'NoSQL data stores',\n",
       " 'Cassandra',\n",
       " 'DynamoDB',\n",
       " 'MongoDB',\n",
       " 'Relational data stores',\n",
       " 'MySQL',\n",
       " 'Oracle',\n",
       " 'Continuous integration',\n",
       " 'Unit testing',\n",
       " 'Static analysis',\n",
       " 'Automated integration tests',\n",
       " 'Scrum',\n",
       " 'Agile principles']"
      ]
     },
     "execution_count": 12,
     "metadata": {},
     "output_type": "execute_result"
    }
   ],
   "source": [
    "job= json_res\n",
    "job['skills']"
   ]
  },
  {
   "cell_type": "code",
   "execution_count": 15,
   "id": "baba2b9e-ed85-4843-9891-2ff1aa0e7da0",
   "metadata": {},
   "outputs": [
    {
     "name": "stdout",
     "output_type": "stream",
     "text": [
      "Subject: Expertise in Building High-Throughput, Low-Latency Supply Chain Platforms\n",
      "\n",
      "Dear Hiring Manager,\n",
      "\n",
      "I came across the job description for a Senior Software Engineer, ITC at Nike, and I was impressed by the company's commitment to building a high-throughput, low-latency, fault-tolerant supply chain platform. As a Business Development Executive at AtliQ, I'd like to introduce our company's expertise in facilitating the seamless integration of business processes through automated tools.\n",
      "\n",
      "Our team at AtliQ has extensive experience in developing scalable, process-optimized, and cost-reduced solutions for various industries. We've empowered numerous enterprises with tailored solutions, fostering scalability, process optimization, cost reduction, and heightened overall efficiency.\n",
      "\n",
      "Our portfolio showcases our expertise in Java, Spring Boot, Microservices Architecture, Domain-Driven Design, RESTful Services, Test-Driven Development, and Continuous Integration, which aligns with the requirements mentioned in the job description. We've successfully implemented projects using NoSQL data stores like Cassandra, DynamoDB, and MongoDB, as well as Relational data stores like MySQL and Oracle.\n",
      "\n",
      "Some of our notable projects include:\n",
      "\n",
      "* Developing a Java-based e-commerce platform with Spring Boot and Oracle, which resulted in a 30% increase in sales for our client.\n",
      "* Implementing a Microservices Architecture using Kotlin and Spring Boot for a leading fintech company, which improved their system's scalability and reliability.\n",
      "* Designing and developing a RESTful API using Java and Spring Boot for a healthcare company, which enhanced their data exchange and integration capabilities.\n",
      "\n",
      "I'd love to discuss how our expertise can help Nike achieve its digital transformation and growth strategies. Please find some relevant links to our portfolio below:\n",
      "\n",
      "* https://example.com/java-portfolio\n",
      "* https://example.com/spring-boot-portfolio\n",
      "* https://example.com/microservices-architecture-portfolio\n",
      "\n",
      "I'd appreciate the opportunity to schedule a call to explore how AtliQ can contribute to Nike's success. Please let me know if you're available for a discussion.\n",
      "\n",
      "Best regards,\n",
      "\n",
      "Rahul Gangahar\n",
      "Business Development Executive\n",
      "AtliQ\n"
     ]
    }
   ],
   "source": [
    "### create Prompt template form email\n",
    "prompt_email = PromptTemplate.from_template(\n",
    "        \"\"\"\n",
    "        ### JOB DESCRIPTION:\n",
    "        {job_description}\n",
    "        \n",
    "        ### INSTRUCTION:\n",
    "        You are Rahul Gangahar, a business development executive at AtliQ. AtliQ is an AI & Software Consulting company dedicated to facilitating\n",
    "        the seamless integration of business processes through automated tools. \n",
    "        Over our experience, we have empowered numerous enterprises with tailored solutions, fostering scalability, \n",
    "        process optimization, cost reduction, and heightened overall efficiency. \n",
    "        Your job is to write a cold email to the client regarding the job mentioned above describing the capability of AtliQ \n",
    "        in fulfilling their needs.\n",
    "        Also add the most relevant ones from the following links to showcase Atliq's portfolio: {link_list}\n",
    "        Remember you are Mohan, BDE at AtliQ. \n",
    "        Do not provide a preamble.\n",
    "        ### EMAIL (NO PREAMBLE):\n",
    "        \n",
    "        \"\"\"\n",
    "        )\n",
    "\n",
    "chain_email = prompt_email | llm\n",
    "res = chain_email.invoke({\"job_description\": str(job), \"link_list\": links})\n",
    "print(res.content)\n",
    "\n"
   ]
  },
  {
   "cell_type": "code",
   "execution_count": null,
   "id": "4e17eebe-75b9-46c8-8f0a-ee659a419102",
   "metadata": {},
   "outputs": [],
   "source": []
  }
 ],
 "metadata": {
  "kernelspec": {
   "display_name": "Python 3 (ipykernel)",
   "language": "python",
   "name": "python3"
  },
  "language_info": {
   "codemirror_mode": {
    "name": "ipython",
    "version": 3
   },
   "file_extension": ".py",
   "mimetype": "text/x-python",
   "name": "python",
   "nbconvert_exporter": "python",
   "pygments_lexer": "ipython3",
   "version": "3.10.0"
  }
 },
 "nbformat": 4,
 "nbformat_minor": 5
}
